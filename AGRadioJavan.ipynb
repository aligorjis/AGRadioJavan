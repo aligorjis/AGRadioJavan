{
 "cells": [
  {
   "cell_type": "code",
   "execution_count": 2,
   "metadata": {
    "collapsed": false
   },
   "outputs": [],
   "source": [
    "from bs4 import BeautifulSoup as bs\n",
    "import requests\n",
    "\n",
    "url=\"https://www.radiojavan.com/mp3s/browse/popular/month\"\n",
    "pattern=\"https://host2.rjmusicmedia.com/media/mp3/mp3-256/Erfan-Sepehr-Khalse-Shabaye-Tehran-(Ft-Farshid).mp3\"\n",
    "\n",
    "myList=[]\n",
    "html=requests.get(url)\n",
    "soup=bs(html.content , \"lxml\")\n",
    "mydivs = soup.findAll(\"div\", {\"class\": \"block_container\"})\n",
    "\n",
    "for divs in mydivs:\n",
    "       myList.append(divs.find('a')['href'])\n",
    "        \n"
   ]
  },
  {
   "cell_type": "code",
   "execution_count": 3,
   "metadata": {
    "collapsed": false
   },
   "outputs": [
    {
     "name": "stdout",
     "output_type": "stream",
     "text": [
      "['/mp3s/mp3/Jay-Lei-Sij-YKC', '/mp3s/mp3/Sogand-Khodaya', '/mp3s/mp3/Sahar-Che-Haliye-(Remix)', '/mp3s/mp3/Erfan-Sepehr-Khalse-Shabaye-Tehran-(Ft-Farshid)', '/mp3s/mp3/Behnam-Bani-Hanooz-Dooset-Daram', '/mp3s/mp3/Alireza-Talischi-Divooneye-Doos-Dashtani', '/mp3s/mp3/Eddie-Attar-Delo-Bede', '/mp3s/mp3/Ho3ein-Chap3', '/mp3s/mp3/Saaren-Bazande', '/mp3s/mp3/Amirhossein-Eftekhari-Mara-Bekhan', '/mp3s/mp3/Ali-Lohrasbi-Khodahafez', '/mp3s/mp3/Parsalip-Arta-Khaterate-Bad', '/mp3s/mp3/Shahab-Tiam-Kheyli-Fori', '/mp3s/mp3/SheryM-Chesha-Roo-Man-Zoome', '/mp3s/mp3/Gdaal-Hamejaa-(Ft-Imanemun)', '/mp3s/mp3/Alishmas-Kimia-Goole-Aksamo-Nakhor', '/mp3s/mp3/Sasy-Che-Pesari', '/mp3s/mp3/Jay-Lei-Sij-Line-Bazi-(Ft-Sohrab-MJ-Sepehr-Khalse)', '/mp3s/mp3/Dariush-Nafase-Iran', '/mp3s/mp3/Ehaam-Darya', '/mp3s/mp3/Donya-Dardesar', '/mp3s/mp3/Sadegh-Asil-Zadamoon', '/mp3s/mp3/Ehaam-Cheshmanat-Arezoost', '/mp3s/mp3/Ali-Molaei-Maryam', '/mp3s/mp3/Reza-Bahram-Az-Eshgh-Bego', '/mp3s/mp3/Eddie-Attar-Aramesh-(Ft-Morvarid)', '/mp3s/mp3/Babak-Jahanbakhsh-Man-Hastam', '/mp3s/mp3/Hamid-Hiraad-Ashegh', '/mp3s/mp3/Hoorosh-Band-Khastam', '/mp3s/mp3/Eddie-Attar-Jadidan', '/mp3s/mp3/Mohsen-Yeganeh-Fekre-To', '/mp3s/mp3/Eddie-Attar-Hame-Midoonan', '/mp3s/mp3/Sepehr-Khalse-Ta-Akhar-(Ft-Parham-Ta)', '/mp3s/mp3/Babak-Jahanbakhsh-Ey-Vaaay', '/mp3s/mp3/Shakila-Man-Gholame-Ghamaram', '/mp3s/mp3/Hoorosh-Band-Avaz-Kardi', '/mp3s/mp3/Farzad-Farokh-Ahle-Asheghi', '/mp3s/mp3/Puzzle-Band-Safo-Sadeh', '/mp3s/mp3/Sina-Shabankhani-Range-Sal', '/mp3s/mp3/Zakhmi-Raziam']\n"
     ]
    }
   ],
   "source": [
    "print(myList)"
   ]
  },
  {
   "cell_type": "code",
   "execution_count": 4,
   "metadata": {
    "collapsed": false
   },
   "outputs": [],
   "source": [
    "myName=[]\n",
    "for item in myList:\n",
    "    myName.append(item[10:])"
   ]
  },
  {
   "cell_type": "code",
   "execution_count": 5,
   "metadata": {
    "collapsed": false
   },
   "outputs": [
    {
     "name": "stdout",
     "output_type": "stream",
     "text": [
      "['Jay-Lei-Sij-YKC', 'Sogand-Khodaya', 'Sahar-Che-Haliye-(Remix)', 'Erfan-Sepehr-Khalse-Shabaye-Tehran-(Ft-Farshid)', 'Behnam-Bani-Hanooz-Dooset-Daram', 'Alireza-Talischi-Divooneye-Doos-Dashtani', 'Eddie-Attar-Delo-Bede', 'Ho3ein-Chap3', 'Saaren-Bazande', 'Amirhossein-Eftekhari-Mara-Bekhan', 'Ali-Lohrasbi-Khodahafez', 'Parsalip-Arta-Khaterate-Bad', 'Shahab-Tiam-Kheyli-Fori', 'SheryM-Chesha-Roo-Man-Zoome', 'Gdaal-Hamejaa-(Ft-Imanemun)', 'Alishmas-Kimia-Goole-Aksamo-Nakhor', 'Sasy-Che-Pesari', 'Jay-Lei-Sij-Line-Bazi-(Ft-Sohrab-MJ-Sepehr-Khalse)', 'Dariush-Nafase-Iran', 'Ehaam-Darya', 'Donya-Dardesar', 'Sadegh-Asil-Zadamoon', 'Ehaam-Cheshmanat-Arezoost', 'Ali-Molaei-Maryam', 'Reza-Bahram-Az-Eshgh-Bego', 'Eddie-Attar-Aramesh-(Ft-Morvarid)', 'Babak-Jahanbakhsh-Man-Hastam', 'Hamid-Hiraad-Ashegh', 'Hoorosh-Band-Khastam', 'Eddie-Attar-Jadidan', 'Mohsen-Yeganeh-Fekre-To', 'Eddie-Attar-Hame-Midoonan', 'Sepehr-Khalse-Ta-Akhar-(Ft-Parham-Ta)', 'Babak-Jahanbakhsh-Ey-Vaaay', 'Shakila-Man-Gholame-Ghamaram', 'Hoorosh-Band-Avaz-Kardi', 'Farzad-Farokh-Ahle-Asheghi', 'Puzzle-Band-Safo-Sadeh', 'Sina-Shabankhani-Range-Sal', 'Zakhmi-Raziam']\n"
     ]
    }
   ],
   "source": [
    "print(myName)"
   ]
  },
  {
   "cell_type": "code",
   "execution_count": 6,
   "metadata": {
    "collapsed": true
   },
   "outputs": [],
   "source": [
    "a=\"https://host2.rjmusicmedia.com/media/mp3/mp3-256/\"\n",
    "b=\".mp3\"\n",
    "myUrl=[]\n",
    "for item in myName:\n",
    "    myUrl.append(a+item+b)"
   ]
  },
  {
   "cell_type": "code",
   "execution_count": 7,
   "metadata": {
    "collapsed": false
   },
   "outputs": [
    {
     "name": "stdout",
     "output_type": "stream",
     "text": [
      "['https://host2.rjmusicmedia.com/media/mp3/mp3-256/Jay-Lei-Sij-YKC.mp3', 'https://host2.rjmusicmedia.com/media/mp3/mp3-256/Sogand-Khodaya.mp3', 'https://host2.rjmusicmedia.com/media/mp3/mp3-256/Sahar-Che-Haliye-(Remix).mp3', 'https://host2.rjmusicmedia.com/media/mp3/mp3-256/Erfan-Sepehr-Khalse-Shabaye-Tehran-(Ft-Farshid).mp3', 'https://host2.rjmusicmedia.com/media/mp3/mp3-256/Behnam-Bani-Hanooz-Dooset-Daram.mp3', 'https://host2.rjmusicmedia.com/media/mp3/mp3-256/Alireza-Talischi-Divooneye-Doos-Dashtani.mp3', 'https://host2.rjmusicmedia.com/media/mp3/mp3-256/Eddie-Attar-Delo-Bede.mp3', 'https://host2.rjmusicmedia.com/media/mp3/mp3-256/Ho3ein-Chap3.mp3', 'https://host2.rjmusicmedia.com/media/mp3/mp3-256/Saaren-Bazande.mp3', 'https://host2.rjmusicmedia.com/media/mp3/mp3-256/Amirhossein-Eftekhari-Mara-Bekhan.mp3', 'https://host2.rjmusicmedia.com/media/mp3/mp3-256/Ali-Lohrasbi-Khodahafez.mp3', 'https://host2.rjmusicmedia.com/media/mp3/mp3-256/Parsalip-Arta-Khaterate-Bad.mp3', 'https://host2.rjmusicmedia.com/media/mp3/mp3-256/Shahab-Tiam-Kheyli-Fori.mp3', 'https://host2.rjmusicmedia.com/media/mp3/mp3-256/SheryM-Chesha-Roo-Man-Zoome.mp3', 'https://host2.rjmusicmedia.com/media/mp3/mp3-256/Gdaal-Hamejaa-(Ft-Imanemun).mp3', 'https://host2.rjmusicmedia.com/media/mp3/mp3-256/Alishmas-Kimia-Goole-Aksamo-Nakhor.mp3', 'https://host2.rjmusicmedia.com/media/mp3/mp3-256/Sasy-Che-Pesari.mp3', 'https://host2.rjmusicmedia.com/media/mp3/mp3-256/Jay-Lei-Sij-Line-Bazi-(Ft-Sohrab-MJ-Sepehr-Khalse).mp3', 'https://host2.rjmusicmedia.com/media/mp3/mp3-256/Dariush-Nafase-Iran.mp3', 'https://host2.rjmusicmedia.com/media/mp3/mp3-256/Ehaam-Darya.mp3', 'https://host2.rjmusicmedia.com/media/mp3/mp3-256/Donya-Dardesar.mp3', 'https://host2.rjmusicmedia.com/media/mp3/mp3-256/Sadegh-Asil-Zadamoon.mp3', 'https://host2.rjmusicmedia.com/media/mp3/mp3-256/Ehaam-Cheshmanat-Arezoost.mp3', 'https://host2.rjmusicmedia.com/media/mp3/mp3-256/Ali-Molaei-Maryam.mp3', 'https://host2.rjmusicmedia.com/media/mp3/mp3-256/Reza-Bahram-Az-Eshgh-Bego.mp3', 'https://host2.rjmusicmedia.com/media/mp3/mp3-256/Eddie-Attar-Aramesh-(Ft-Morvarid).mp3', 'https://host2.rjmusicmedia.com/media/mp3/mp3-256/Babak-Jahanbakhsh-Man-Hastam.mp3', 'https://host2.rjmusicmedia.com/media/mp3/mp3-256/Hamid-Hiraad-Ashegh.mp3', 'https://host2.rjmusicmedia.com/media/mp3/mp3-256/Hoorosh-Band-Khastam.mp3', 'https://host2.rjmusicmedia.com/media/mp3/mp3-256/Eddie-Attar-Jadidan.mp3', 'https://host2.rjmusicmedia.com/media/mp3/mp3-256/Mohsen-Yeganeh-Fekre-To.mp3', 'https://host2.rjmusicmedia.com/media/mp3/mp3-256/Eddie-Attar-Hame-Midoonan.mp3', 'https://host2.rjmusicmedia.com/media/mp3/mp3-256/Sepehr-Khalse-Ta-Akhar-(Ft-Parham-Ta).mp3', 'https://host2.rjmusicmedia.com/media/mp3/mp3-256/Babak-Jahanbakhsh-Ey-Vaaay.mp3', 'https://host2.rjmusicmedia.com/media/mp3/mp3-256/Shakila-Man-Gholame-Ghamaram.mp3', 'https://host2.rjmusicmedia.com/media/mp3/mp3-256/Hoorosh-Band-Avaz-Kardi.mp3', 'https://host2.rjmusicmedia.com/media/mp3/mp3-256/Farzad-Farokh-Ahle-Asheghi.mp3', 'https://host2.rjmusicmedia.com/media/mp3/mp3-256/Puzzle-Band-Safo-Sadeh.mp3', 'https://host2.rjmusicmedia.com/media/mp3/mp3-256/Sina-Shabankhani-Range-Sal.mp3', 'https://host2.rjmusicmedia.com/media/mp3/mp3-256/Zakhmi-Raziam.mp3']\n"
     ]
    }
   ],
   "source": [
    "print(myUrl)"
   ]
  },
  {
   "cell_type": "code",
   "execution_count": 8,
   "metadata": {
    "collapsed": false
   },
   "outputs": [],
   "source": [
    "file = open(\"Exported.txt\", \"w\")\n",
    "for item in myUrl:\n",
    "    file.write(item + '\\n')\n",
    "file.close()"
   ]
  },
  {
   "cell_type": "code",
   "execution_count": null,
   "metadata": {
    "collapsed": true
   },
   "outputs": [],
   "source": []
  }
 ],
 "metadata": {
  "kernelspec": {
   "display_name": "Python 3",
   "language": "python",
   "name": "python3"
  },
  "language_info": {
   "codemirror_mode": {
    "name": "ipython",
    "version": 3
   },
   "file_extension": ".py",
   "mimetype": "text/x-python",
   "name": "python",
   "nbconvert_exporter": "python",
   "pygments_lexer": "ipython3",
   "version": "3.6.0"
  }
 },
 "nbformat": 4,
 "nbformat_minor": 2
}
